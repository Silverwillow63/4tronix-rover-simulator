{
 "cells": [
  {
   "attachments": {},
   "cell_type": "markdown",
   "metadata": {},
   "source": [
    "# Working out steering angles\n",
    "\n",
    "Firstly, let's describe some physical characteristics of the rover."
   ]
  },
  {
   "cell_type": "code",
   "execution_count": 313,
   "metadata": {},
   "outputs": [],
   "source": [
    "fullSpeedCmPerSecond = 10 # a guess\n",
    "vehicleWidthCm = 16.0\n",
    "distanceBetweenWheelPairsCm = 8.0"
   ]
  },
  {
   "attachments": {},
   "cell_type": "markdown",
   "metadata": {},
   "source": [
    "Let's also bring in some Python maths things we'll be using."
   ]
  },
  {
   "cell_type": "code",
   "execution_count": 314,
   "metadata": {},
   "outputs": [],
   "source": [
    "import math # Americans call it math without an s"
   ]
  },
  {
   "attachments": {},
   "cell_type": "markdown",
   "metadata": {},
   "source": [
    "Set the initial position, orientation, motor speed and steering angle for a wheel:"
   ]
  },
  {
   "cell_type": "code",
   "execution_count": 315,
   "metadata": {},
   "outputs": [],
   "source": [
    "vehicleHeadingDegrees = 0 # North\n",
    "vehicleXcm = 0\n",
    "vehicleYcm = 0\n",
    "\n",
    "# Values after 1 iteration\n",
    "vehicleHeadingDegrees = -0.6218317312783117\n",
    "vehicleXcm = -0.002200859366624286\n",
    "vehicleYcm = 0.40557182565766303\n",
    "\n",
    "wheelSpeed = 50\n",
    "wheelAngleRelativeToVehicleDegrees = -10 # Anticlockwise, so aiming slightly to the left"
   ]
  },
  {
   "attachments": {},
   "cell_type": "markdown",
   "metadata": {},
   "source": [
    "The motor speed is just a number from 0 (not moving) to 100. We need to convert that into an actual speed."
   ]
  },
  {
   "cell_type": "code",
   "execution_count": 316,
   "metadata": {},
   "outputs": [
    {
     "data": {
      "text/plain": [
       "5.0"
      ]
     },
     "metadata": {},
     "output_type": "display_data"
    }
   ],
   "source": [
    "wheelSpeedCmPerSecond = wheelSpeed / 100.0 * fullSpeedCmPerSecond\n",
    "\n",
    "display(wheelSpeedCmPerSecond)"
   ]
  },
  {
   "attachments": {},
   "cell_type": "markdown",
   "metadata": {},
   "source": [
    "Next we need to work out the turning circle radius.\n",
    "\n",
    "We know the angle of the wheel, which we'll call $\\theta$. Trigonometry's _SOHCAHTOA_ mnemonic tells us that _SOH_, that is, the $sin (\\theta)$ multiplied by the length of the _opposite_ edge (the one opposite the angle we've measured) gives us the length of the _hypoteneuse_.\n",
    "\n",
    "$$sin(\\theta) \\times opposite= hypoteneuse$$ \n",
    "\n",
    "The hypoteneuse is name for the side of a right-angled triangle that doesn't touch the right-angled corner:\n"
   ]
  },
  {
   "attachments": {},
   "cell_type": "markdown",
   "metadata": {},
   "source": [
    "<?xml version=\"1.0\" encoding=\"UTF-8\" standalone=\"no\" ?>\n",
    "<!DOCTYPE svg PUBLIC \"-//W3C//DTD SVG 1.1//EN\" \"http://www.w3.org/Graphics/SVG/1.1/DTD/svg11.dtd\">\n",
    "<svg xmlns=\"http://www.w3.org/2000/svg\" xmlns:xlink=\"http://www.w3.org/1999/xlink\" version=\"1.1\" width=\"450\" height=\"200\" viewBox=\"0 0 450 200\" xml:space=\"preserve\">\n",
    "<desc>Created with Fabric.js 3.6.6</desc>\n",
    "<defs>\n",
    "</defs>\n",
    "<g transform=\"matrix(1 0 0 1 5 145)\"  >\n",
    "<line style=\"stroke: rgb(0,0,0); stroke-width: 2; stroke-dasharray: none; stroke-linecap: butt; stroke-dashoffset: 0; stroke-linejoin: miter; stroke-miterlimit: 4; fill: rgb(0,0,0); fill-rule: nonzero; opacity: 1;\"  x1=\"0\" y1=\"0\" x2=\"0\" y2=\"0\" />\n",
    "</g>\n",
    "<g transform=\"matrix(1 0 0 1 358.5 48.47)\" style=\"\"  >\n",
    "\t\t<text xml:space=\"preserve\" font-family=\"'Open Sans', sans-serif\" font-size=\"18\" font-style=\"normal\" font-weight=\"normal\" style=\"stroke: none; stroke-width: 1; stroke-dasharray: none; stroke-linecap: butt; stroke-dashoffset: 0; stroke-linejoin: miter; stroke-miterlimit: 4; fill: rgb(0,0,0); fill-rule: nonzero; opacity: 1; white-space: pre;\" ><tspan x=\"-40\" y=\"-6.14\" style=\"stroke-width: 1; font-family: 'Open Sans', sans-serif; font-size: 18px; font-style: normal; font-weight: normal; fill: rgb(0,0,0); \">Steerable</tspan><tspan x=\"-40\" y=\"17.45\" style=\"stroke-width: 1; font-family: 'Open Sans', sans-serif; font-size: 18px; font-style: normal; font-weight: normal; fill: rgb(0,0,0); \">Wheel</tspan></text>\n",
    "</g>\n",
    "<g transform=\"matrix(1 0 0 1 366.07 160.47)\" style=\"\"  >\n",
    "\t\t<text xml:space=\"preserve\" font-family=\"'Open Sans', sans-serif\" font-size=\"18\" font-style=\"normal\" font-weight=\"normal\" style=\"stroke: none; stroke-width: 1; stroke-dasharray: none; stroke-linecap: butt; stroke-dashoffset: 0; stroke-linejoin: miter; stroke-miterlimit: 4; fill: rgb(0,0,0); fill-rule: nonzero; opacity: 1; white-space: pre;\" ><tspan x=\"-54.57\" y=\"-6.14\" style=\"stroke-width: 1; font-family: 'Open Sans', sans-serif; font-size: 18px; font-style: normal; font-weight: normal; fill: rgb(0,0,0); \">Non-steering</tspan><tspan x=\"-54.57\" y=\"17.45\" style=\"stroke-width: 1; font-family: 'Open Sans', sans-serif; font-size: 18px; font-style: normal; font-weight: normal; fill: rgb(0,0,0); \">Wheel</tspan></text>\n",
    "</g>\n",
    "<g transform=\"matrix(0.25 0 0 0.61 292.2 157.81)\"  >\n",
    "<polygon style=\"stroke: rgb(0,0,0); stroke-width: 8; stroke-dasharray: none; stroke-linecap: butt; stroke-dashoffset: 0; stroke-linejoin: miter; stroke-miterlimit: 4; fill: rgb(157,157,141); fill-rule: nonzero; opacity: 1;\"  points=\"-50,-50 -50,50 50,50 50,-50 \" />\n",
    "</g>\n",
    "<g transform=\"matrix(0.25 0 0 0.61 203.5 157.94)\"  >\n",
    "<polygon style=\"stroke: rgb(0,0,0); stroke-width: 8; stroke-dasharray: none; stroke-linecap: butt; stroke-dashoffset: 0; stroke-linejoin: miter; stroke-miterlimit: 4; fill: rgb(157,157,141); fill-rule: nonzero; opacity: 1;\"  points=\"-50,-50 -50,50 50,50 50,-50 \" />\n",
    "</g>\n",
    "<g transform=\"matrix(0.23 -0.1 0.24 0.56 292.5 38.94)\"  >\n",
    "<polygon style=\"stroke: rgb(0,0,0); stroke-width: 8; stroke-dasharray: none; stroke-linecap: butt; stroke-dashoffset: 0; stroke-linejoin: miter; stroke-miterlimit: 4; fill: rgb(157,157,141); fill-rule: nonzero; opacity: 1;\"  points=\"-50,-50 -50,50 50,50 50,-50 \" />\n",
    "</g>\n",
    "<g transform=\"matrix(1 0 0 1 148.5 98)\"  >\n",
    "<path style=\"stroke: rgb(0,0,0); stroke-width: 2; stroke-dasharray: none; stroke-linecap: butt; stroke-dashoffset: 0; stroke-linejoin: miter; stroke-miterlimit: 4; fill: none; fill-rule: nonzero; opacity: 1;\"  transform=\" translate(-261.5, -162)\" d=\"M 118 222 L 404.11186623417075 222 L 405 102 L 118 222\" stroke-linecap=\"round\" />\n",
    "</g>\n",
    "<g transform=\"matrix(1 0 0 1 133.07 157.47)\" style=\"\"  >\n",
    "\t\t<text xml:space=\"preserve\" font-family=\"'Open Sans', sans-serif\" font-size=\"18\" font-style=\"normal\" font-weight=\"normal\" style=\"stroke: none; stroke-width: 1; stroke-dasharray: none; stroke-linecap: butt; stroke-dashoffset: 0; stroke-linejoin: miter; stroke-miterlimit: 4; fill: rgb(0,0,0); fill-rule: nonzero; opacity: 1; white-space: pre;\" ><tspan x=\"-54.57\" y=\"-6.14\" style=\"stroke-width: 1; font-family: 'Open Sans', sans-serif; font-size: 18px; font-style: normal; font-weight: normal; fill: rgb(0,0,0); \">Non-steering</tspan><tspan x=\"2.15\" y=\"17.45\" style=\"stroke-width: 1; font-family: 'Open Sans', sans-serif; font-size: 18px; font-style: normal; font-weight: normal; fill: rgb(0,0,0); \">Wheel</tspan></text>\n",
    "</g>\n",
    "<g transform=\"matrix(1 0 0 1 260 156)\"  >\n",
    "<line style=\"stroke: rgb(0,0,0); stroke-width: 2; stroke-dasharray: none; stroke-linecap: butt; stroke-dashoffset: 0; stroke-linejoin: miter; stroke-miterlimit: 4; fill: rgb(0,0,0); fill-rule: nonzero; opacity: 1;\"  x1=\"0\" y1=\"0\" x2=\"0\" y2=\"0\" />\n",
    "</g>\n",
    "<g transform=\"matrix(1 0 0 1 279.5 146.5)\"  >\n",
    "<path style=\"stroke: rgb(0,0,0); stroke-width: 2; stroke-dasharray: none; stroke-linecap: butt; stroke-dashoffset: 0; stroke-linejoin: miter; stroke-miterlimit: 4; fill: none; fill-rule: nonzero; opacity: 1;\"  transform=\" translate(-392.5, -210.5)\" d=\"M 380 222 L 380 199 L 405 199\" stroke-linecap=\"round\" />\n",
    "</g>\n",
    "<g transform=\"matrix(0.63 0 0 0.87 70.53 144.49)\"  >\n",
    "<path style=\"stroke: rgb(0,0,0); stroke-width: 2; stroke-dasharray: none; stroke-linecap: butt; stroke-dashoffset: 0; stroke-linejoin: miter; stroke-miterlimit: 4; fill: none; fill-rule: nonzero; opacity: 1;\"  transform=\" translate(-186.61, -208.5)\" d=\"M 182 194 Q 193 206 188 223\" stroke-linecap=\"round\" />\n",
    "</g>\n",
    "<g transform=\"matrix(1 0 0 1 60.02 148.52)\" style=\"\"  >\n",
    "\t\t<text xml:space=\"preserve\" font-family=\"'Open Sans', sans-serif\" font-size=\"18\" font-style=\"normal\" font-weight=\"normal\" style=\"stroke: none; stroke-width: 1; stroke-dasharray: none; stroke-linecap: butt; stroke-dashoffset: 0; stroke-linejoin: miter; stroke-miterlimit: 4; fill: rgb(0,0,0); fill-rule: nonzero; opacity: 1; white-space: pre;\" ><tspan x=\"-10.08\" y=\"5.65\" >θ</tspan></text>\n",
    "</g>\n",
    "<g transform=\"matrix(1 0 0 1 298.5 102.67)\" style=\"\"  >\n",
    "\t\t<text xml:space=\"preserve\" font-family=\"'Open Sans', sans-serif\" font-size=\"18\" font-style=\"normal\" font-weight=\"normal\" style=\"stroke: none; stroke-width: 1; stroke-dasharray: none; stroke-linecap: butt; stroke-dashoffset: 0; stroke-linejoin: miter; stroke-miterlimit: 4; fill: rgb(0,0,0); fill-rule: nonzero; opacity: 1; white-space: pre;\" ><tspan x=\"-40\" y=\"5.65\" style=\"stroke-width: 1; font-family: 'Open Sans', sans-serif; font-size: 18px; font-style: italic; font-weight: normal; fill: rgb(0,0,0); \">opposite</tspan></text>\n",
    "</g>\n",
    "<g transform=\"matrix(0.92 -0.38 0.38 0.92 154.15 82.67)\" style=\"\"  >\n",
    "\t\t<text xml:space=\"preserve\" font-family=\"'Open Sans', sans-serif\" font-size=\"18\" font-style=\"italic\" font-weight=\"normal\" style=\"stroke: none; stroke-width: 1; stroke-dasharray: none; stroke-linecap: butt; stroke-dashoffset: 0; stroke-linejoin: miter; stroke-miterlimit: 4; fill: rgb(0,0,0); fill-rule: nonzero; opacity: 1; white-space: pre;\" ><tspan x=\"-54.65\" y=\"5.65\" style=\"stroke-width: 1; font-family: 'Open Sans', sans-serif; font-size: 18px; font-weight: normal; fill: rgb(0,0,0); \">hypoteneuse</tspan></text>\n",
    "</g>\n",
    "</svg>"
   ]
  },
  {
   "attachments": {},
   "cell_type": "markdown",
   "metadata": {},
   "source": [
    "In this diagram, I've labelled two of the corners to show how this triangle lines up with a couple of the wheels on the rover. Assume in this case that it's the front right steerable wheel, and the non-steering middle right wheel. If we join these two point up with a straight line, and then draw another line at right angles to the left (which will go right through the left-hand non-steerable wheel; I've left the other three wheels off this diagram) and then draw a line coming out of the steerable wheel perpendicular to the direction it is pointing, that line will hit the other line, forming the triangle shown above. And it's that line that's the hypoteneuse.\n",
    "\n",
    "All three wheels will tend to turn in a circle centred on the left hand corner of that triangle, because wheels tend to resist skidding sideways. That they can move freely in the direction they are pointing, and can generally freely change direction, but will resist sliding sideways. The fact that the steerable wheel is pointing off to the left means that it will tend to want to move that way, but because all the wheels are attached to the same rover, this will tend to cause the rover to rotate (because the middle wheels want to head straight up, so the front wheel will end up pushing the front of the vehicle to the left, causing rotation). As this continues, the wheels will all gradually turn to the left along with the rover. Because they resist being moved sideways relative to where they are pointing, they will all tend to maintain the same distance from the left corner of the circle (because that corner is directly sideways from all of the wheels), and so they will move in a circle. (A circle is what you get when something moves, turning continuously but maintaining a constant distance from a particular point.)\n",
    "\n",
    "We can work out the length of the _hypoteneuse_ side of the triangle using that trigonometric formula shown above. But first, we'll need to work out what the length of the _opposite_ side is. We can work that out from the dimensions of the vehicle. However, we're going to need to be able to do this for any of the four steerable wheels, so let's set up some variables to say which we're working on right now:"
   ]
  },
  {
   "cell_type": "code",
   "execution_count": 317,
   "metadata": {},
   "outputs": [],
   "source": [
    "left = True\n",
    "front = True"
   ]
  },
  {
   "attachments": {},
   "cell_type": "markdown",
   "metadata": {},
   "source": [
    "Then we can work out the position of the wheel relative to the rover. (So if we were sitting right in the middle of the rover, this measure how far left/right and how far forward back we have to go to find the steerable wheel we're interested in right now.)"
   ]
  },
  {
   "cell_type": "code",
   "execution_count": 318,
   "metadata": {},
   "outputs": [
    {
     "data": {
      "text/plain": [
       "[-8.0, 8.0]"
      ]
     },
     "metadata": {},
     "output_type": "display_data"
    }
   ],
   "source": [
    "wheelDistanceFromCentreX = vehicleWidthCm / 2\n",
    "steerablePosRelativeToRoverX = -wheelDistanceFromCentreX if left else wheelDistanceFromCentreX\n",
    "steerablePosRelativeToRoverY = distanceBetweenWheelPairsCm if front else distanceBetweenWheelPairsCm\n",
    "\n",
    "display([steerablePosRelativeToRoverX, steerablePosRelativeToRoverY])"
   ]
  },
  {
   "attachments": {},
   "cell_type": "markdown",
   "metadata": {},
   "source": [
    "The _opposite_ side of the triangle is the one between the steerable wheel and the fixed middle wheel on the same size:"
   ]
  },
  {
   "cell_type": "code",
   "execution_count": 319,
   "metadata": {},
   "outputs": [
    {
     "data": {
      "text/plain": [
       "8.0"
      ]
     },
     "metadata": {},
     "output_type": "display_data"
    }
   ],
   "source": [
    "distanceBetweenWheelsCm = steerablePosRelativeToRoverY\n",
    "display(distanceBetweenWheelsCm)"
   ]
  },
  {
   "attachments": {},
   "cell_type": "markdown",
   "metadata": {},
   "source": [
    "Now we can perform that trigonometric function from earlier to work out the hypoteneuse. We'll refer to this as the _radius_ because we're interested in the circle that wheel is going to follow, and that hypoteneuse is that circle's radius."
   ]
  },
  {
   "cell_type": "code",
   "execution_count": 320,
   "metadata": {},
   "outputs": [
    {
     "data": {
      "text/plain": [
       "-46.07016386514907"
      ]
     },
     "metadata": {},
     "output_type": "display_data"
    }
   ],
   "source": [
    "# Python's trigonometry functions like sin don't use angles in degrees. They use different\n",
    "# units called 'radians', so we have to convert first.\n",
    "\n",
    "wheelAngleRelativeToVehicleRadians = (wheelAngleRelativeToVehicleDegrees / 180.0) * math.pi\n",
    "turningRadiusToSteerableWheelCm = distanceBetweenWheelsCm / math.sin(wheelAngleRelativeToVehicleRadians)\n",
    "\n",
    "display(turningRadiusToSteerableWheelCm)"
   ]
  },
  {
   "attachments": {},
   "cell_type": "markdown",
   "metadata": {},
   "source": [
    "This is a negative number, signifying that the centre of the turning circle is to the wheel's left side (which is because the wheel is pointing slightly to the left). If the wheel had been pointing slightly to the right, it would be a positive number, signifying that the turning circle centre is to the wheel's right side.\n",
    "\n",
    "Note that this doesn't mean the turning circle centre is necessarily to the left of the vehicle. If the wheel were able to turn more than 90 degrees, its left side would have turned around so far that it was pointing to the right hand side of the vehicle."
   ]
  },
  {
   "attachments": {},
   "cell_type": "markdown",
   "metadata": {},
   "source": [
    "Now we need to work out how quickly the rover is rotating. In our simulator, we cheat a little bit. There are lots of reasons this simulation isn't going to be very accurate, so it doesn't really matter if we simplify things where we can. The way we do it is that a few times a second, we run code that tries to work out how the rover is moving. It basically says \"if the rover is here, and pointing this way, and the wheels are pointing these ways and turning this fast, how fast is the rover moving and in what direction, and what way is it turning?\". The part where we cheat is that we then assume that the answer to these questions will stay the same for the little fraction of a second that we're looking at. This isn't actually true - the rover is in continuous motion, which means that its speed and direction might be changing at all times. But we just pretend that it's OK to say \"Well, it's moving 10cm a second and it's pointing north, so in 1 tenth of a second it will have moved 1cm north\". If you work it out with small enough slices of time, it's a reasonable simluation.\n",
    "\n",
    "Anyway, we're going to work out the circumference of the turning circle (and we just worked out the radius, and since the circumference is $2 \\pi r$) we can work it out:"
   ]
  },
  {
   "cell_type": "code",
   "execution_count": 321,
   "metadata": {},
   "outputs": [
    {
     "data": {
      "text/plain": [
       "-289.4673766968605"
      ]
     },
     "metadata": {},
     "output_type": "display_data"
    }
   ],
   "source": [
    "circumferenceCm = 2*math.pi*turningRadiusToSteerableWheelCm\n",
    "\n",
    "display(circumferenceCm)"
   ]
  },
  {
   "attachments": {},
   "cell_type": "markdown",
   "metadata": {},
   "source": [
    "This number comes out negative, which may seem a bit odd - a circle can't have a negative circumference. But that's happened just because the turning radius also came out negative, and all that really tells us was that the centre of the turning circle was on the wheel's left side."
   ]
  },
  {
   "attachments": {},
   "cell_type": "markdown",
   "metadata": {},
   "source": [
    "We know the speed the wheel is turning, so we can use that and the diameter to work out how many times per second the rover is going to complete one rotation. (Unless the rover is moving very fast, and the turning circle is very tight, it's probably going to be a fraction, quite a lot less than one revolution per second.)"
   ]
  },
  {
   "cell_type": "code",
   "execution_count": 322,
   "metadata": {},
   "outputs": [
    {
     "data": {
      "text/plain": [
       "-0.01727310364661977"
      ]
     },
     "metadata": {},
     "output_type": "display_data"
    }
   ],
   "source": [
    "revolutionsPerSecond = wheelSpeedCmPerSecond / circumferenceCm\n",
    "display(revolutionsPerSecond)"
   ]
  },
  {
   "attachments": {},
   "cell_type": "markdown",
   "metadata": {},
   "source": [
    "Again notice that this is negative. This now signifies anticlockwise rotation. If the wheel had been turned slightly to the right, `circumferenceCm` would be positive, signifying clockwise rotation.\n",
    "\n",
    "Now we're going to use that to work out how far it's actually going to turn round in the next fraction of a second that we're thinking about. Exactly how much time are we thinking about? Let's put that in a variable:"
   ]
  },
  {
   "cell_type": "code",
   "execution_count": 323,
   "metadata": {},
   "outputs": [],
   "source": [
    "dt = 0.1"
   ]
  },
  {
   "attachments": {},
   "cell_type": "markdown",
   "metadata": {},
   "source": [
    "So, we're going to try to work out what it will do over the next $1/10$ seconds. (And we'll do that 10 times a second all the time the simulator is running.)\n",
    "\n",
    "This works out the amount it'll turn in just that next $1/10$ seconds."
   ]
  },
  {
   "cell_type": "code",
   "execution_count": 324,
   "metadata": {},
   "outputs": [
    {
     "data": {
      "text/plain": [
       "-0.001727310364661977"
      ]
     },
     "metadata": {},
     "output_type": "display_data"
    },
    {
     "data": {
      "text/plain": [
       "-0.6218317312783117"
      ]
     },
     "metadata": {},
     "output_type": "display_data"
    },
    {
     "data": {
      "text/plain": [
       "-0.010853011104183147"
      ]
     },
     "metadata": {},
     "output_type": "display_data"
    }
   ],
   "source": [
    "revolutionsTurned = revolutionsPerSecond * dt\n",
    "headingChangeDegrees = revolutionsTurned * 360\n",
    "headingChangeRadians = revolutionsTurned * 2 * math.pi\n",
    "\n",
    "display(revolutionsTurned)\n",
    "display(headingChangeDegrees)\n",
    "display(headingChangeRadians)"
   ]
  },
  {
   "attachments": {},
   "cell_type": "markdown",
   "metadata": {},
   "source": [
    "So it hasn't turned much - just 0.622 degrees (roughly). But then we're only talking about what it does in a tenth of a second. And the wheel wasn't turned by much. So it shouldn't be surprising. Earlier, we worked out that the turning circle has a radius of about 46cm, and a circumference of about 289cm, so if it's travelling at about 5cm per second, we'd expect it to take quite a long time to complete one rotation.\n",
    "\n",
    "So we know now by how much the rover will turn in the time slice we're looking at. But where will it move to? For this, we need to work out where the middle of the turning circle is. We know how far it is from the steerable wheel, but we don't yet have its location. We can do this with trigonometry too. We'll first work it out relative to the rover. This makes it simple because we know it's going to be directly to the left or right - it's the corner of the right-angled triangle formed by a line from the centre to the corner wheel and the line going through the middle of the rover.\n",
    "\n",
    "We can work out the distance:\n",
    "\n",
    "$$cos (\\theta) * turningCircleRadius$$"
   ]
  },
  {
   "cell_type": "code",
   "execution_count": 325,
   "metadata": {},
   "outputs": [
    {
     "data": {
      "text/plain": [
       "-37.370254556941674"
      ]
     },
     "execution_count": 325,
     "metadata": {},
     "output_type": "execute_result"
    }
   ],
   "source": [
    "turningCircleCentreDistanceFromVehicleCentre = math.cos(wheelAngleRelativeToVehicleRadians) * turningRadiusToSteerableWheelCm - steerablePosRelativeToRoverX\n",
    "\n",
    "turningCircleCentreDistanceFromVehicleCentre"
   ]
  },
  {
   "attachments": {},
   "cell_type": "markdown",
   "metadata": {},
   "source": [
    "That's about 37 cm to the left of the centre of the rover. (The negative value puts it to the left.) That sounds about right - we worked out the steerable front wheel was about 46cm from the circle's centre. We'd expect the middle wheel to be a teeny bit closer, and then the middle wheel is about 8cm from the centre of the rover so it'll be closer still.\n",
    "\n",
    "But now we need to take into account the rover's rotation and position. First we'll do rotation, again with more trigonometry. Notice that we negate the `vehicleHeadingRadians` because we're using positive values to signify clockwise rotation, as is normal with compass headings, but generally in mathematics, positive values denote anticlockwise changes in angle, and Python's `math.cos` and `math.sin` use that convention. So we negate the angle to deal with that."
   ]
  },
  {
   "cell_type": "code",
   "execution_count": 326,
   "metadata": {},
   "outputs": [
    {
     "data": {
      "text/plain": [
       "[-37.36805369757505, -0.40557182565766303]"
      ]
     },
     "metadata": {},
     "output_type": "display_data"
    }
   ],
   "source": [
    "vehicleHeadingRadians = math.radians(vehicleHeadingDegrees)\n",
    "turningCircleRelativeToVehicleX = turningCircleCentreDistanceFromVehicleCentre * math.cos(-vehicleHeadingRadians)\n",
    "turningCircleRelativeToVehicleY = turningCircleCentreDistanceFromVehicleCentre * math.sin(-vehicleHeadingRadians)\n",
    "\n",
    "display([turningCircleRelativeToVehicleX, turningCircleRelativeToVehicleY])"
   ]
  },
  {
   "attachments": {},
   "cell_type": "markdown",
   "metadata": {},
   "source": [
    "Finally, we adjust this by the vehicle's current position to get the position of the turning circle centre in absolute coordinates."
   ]
  },
  {
   "cell_type": "code",
   "execution_count": 327,
   "metadata": {},
   "outputs": [
    {
     "data": {
      "text/plain": [
       "[-37.370254556941674, 0.0]"
      ]
     },
     "metadata": {},
     "output_type": "display_data"
    }
   ],
   "source": [
    "turningCircleX = turningCircleRelativeToVehicleX + vehicleXcm\n",
    "turningCircleY = turningCircleRelativeToVehicleY + vehicleYcm\n",
    "\n",
    "display([turningCircleX, turningCircleY])"
   ]
  },
  {
   "attachments": {},
   "cell_type": "markdown",
   "metadata": {},
   "source": [
    "Now we can use this to work out where the vehicle's going to move to as it goes around the turning circle.\n",
    "\n",
    "We'll start by working out what its current angle on the circle is. (Although we're mostly measing angles as headings in degrees, with North being 0, the `math.atan2` function we're using here will has 0 degrees at 3 o'clock, and measures anticlockwise in radians.)"
   ]
  },
  {
   "cell_type": "code",
   "execution_count": 328,
   "metadata": {},
   "outputs": [
    {
     "data": {
      "text/plain": [
       "0.01085301110418315"
      ]
     },
     "metadata": {},
     "output_type": "display_data"
    }
   ],
   "source": [
    "currentAngleOnTurningCircleRadians = math.atan2(vehicleYcm - turningCircleY, vehicleXcm - turningCircleX)\n",
    "display(currentAngleOnTurningCircleRadians)"
   ]
  },
  {
   "attachments": {},
   "cell_type": "markdown",
   "metadata": {},
   "source": [
    "We already have the amount by which the vehicle is going to turn in this time slice. Negative numbers represent anticlockwise movement, but with trig, positive angles are anticlockwise, so we actually subtract the change in angle from the current angle on the turning circle."
   ]
  },
  {
   "cell_type": "code",
   "execution_count": 329,
   "metadata": {},
   "outputs": [
    {
     "data": {
      "text/plain": [
       "[-0.008803178234529696, 0.8110958803508561, -1.2436634625566234]"
      ]
     },
     "metadata": {},
     "output_type": "display_data"
    }
   ],
   "source": [
    "updatedAngleOnTurningCircleRadians = currentAngleOnTurningCircleRadians - headingChangeRadians\n",
    "updatedVehicleX = turningCircleX + abs(turningCircleCentreDistanceFromVehicleCentre) * math.cos(updatedAngleOnTurningCircleRadians)\n",
    "updatedVehicleY = turningCircleY + abs(turningCircleCentreDistanceFromVehicleCentre) * math.sin(updatedAngleOnTurningCircleRadians)\n",
    "\n",
    "display([updatedVehicleX, updatedVehicleY, vehicleHeadingDegrees + headingChangeDegrees])"
   ]
  },
  {
   "cell_type": "code",
   "execution_count": 330,
   "metadata": {},
   "outputs": [
    {
     "data": {
      "text/plain": [
       "0.9997644335491181"
      ]
     },
     "execution_count": 330,
     "metadata": {},
     "output_type": "execute_result"
    }
   ],
   "source": [
    "math.cos(updatedAngleOnTurningCircleRadians)"
   ]
  }
 ],
 "metadata": {
  "kernelspec": {
   "display_name": ".venv",
   "language": "python",
   "name": "python3"
  },
  "language_info": {
   "codemirror_mode": {
    "name": "ipython",
    "version": 3
   },
   "file_extension": ".py",
   "mimetype": "text/x-python",
   "name": "python",
   "nbconvert_exporter": "python",
   "pygments_lexer": "ipython3",
   "version": "3.9.13"
  },
  "orig_nbformat": 4
 },
 "nbformat": 4,
 "nbformat_minor": 2
}
